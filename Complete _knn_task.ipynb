{
 "cells": [
  {
   "cell_type": "markdown",
   "metadata": {},
   "source": [
    "## Задание выполненное в ходе изучения KNN"
   ]
  },
  {
   "cell_type": "markdown",
   "metadata": {},
   "source": [
    "## Про оценивание"
   ]
  },
  {
   "cell_type": "markdown",
   "metadata": {},
   "source": [
    "В рамках данной работы вы можете набрать даже не 10, а целых 13. однако итоговая оценка за данную работу не может составлять более 10 баллов. Дополнительные задания являются своего рода \"страховкой\", если с какими-то заданиями не получится хорошо справиться."
   ]
  },
  {
   "cell_type": "markdown",
   "metadata": {},
   "source": [
    "Для удобства проверки заполните ячейку ниже:"
   ]
  },
  {
   "cell_type": "markdown",
   "metadata": {},
   "source": [
    "**ФИО:** Архипова Анастасия Станиславовна \n",
    "\n",
    "\n",
    "**Баллов:**  13, ведь я решила всё ＼(￣▽￣)／\n",
    "\n",
    "(но не знаю, правильно ли)\n",
    "\n",
    "P.s. я закончила это задание до того, как посмотрела курс Supervised Learning, в котором рассказывается о KNN :("
   ]
  },
  {
   "cell_type": "markdown",
   "metadata": {},
   "source": [
    "# Метод k-ближайших соседей (kNN)\n",
    "\n",
    "Давайте перейдем к более прикладным задачам и сначала познакомимся с методом k-ближайщих соседей. Потом его реализуем в виде класса.\n",
    "\n",
    "`kNN` расшифровывается как `k Nearest Neighbor` или `k Ближайших Соседей` — это один из самых простых алгоритмов классификации, также иногда используемый в задачах регрессии. Задача классификации в машинном обучении — это задача отнесения объекта к одному из заранее определенных классов на основании его формализованных признаков. Каждый из объектов в этой задаче представляется в виде вектора в N-мерном пространстве, каждое измерение в котором представляет собой описание одного из признаков объекта. Допустим нам нужно классифицировать мониторы: измерениями в нашем пространстве параметров будут величина диагонали в дюймах, соотношение сторон, максимальное разрешение, наличие HDMI-интерфейса, стоимость и др. \n",
    "\n",
    "\n",
    "## Теория\n",
    "\n",
    "Идея за алгоритмом kNN довольно простая. Он просто считает расстояние от новой точки, до всех известных обучающих точек. Расстояние может быть найдено разными способами. Далее выбирает к-ближайщих точек, где к - целое число. И в конце, на основе классов, к которому принадлежит большинство отобранных точек, присваивает класс новой точке.\n",
    "\n",
    "Давайте посмотрим на работу алгоритма на основе простого примера. Допустим у нас есть датасет по двум переменным, который изображен на рисунке ниже.\n",
    "\n",
    "![image.png](1.png)\n",
    "\n",
    "Нашей задачей будет классифицировать новую точку 'X' в один из классов: `Фиолетовый` или `Красный`. Координаты нашей точки будет равны: x = 45 и y = 50. Пусть количество соседей (K) равно `3`. Алгоритм КНН посчитает расстояния от точки Х до всех остальных точек. Затем он находит, ближайщие по расстоянию до точки Х, точки. Они показаны на рисунке ниже. Три ближайшие точки находятся внутри круга.\n",
    "\n",
    "![image.png](2.png)\n",
    "\n",
    "Последний шагом алгоритма будет присвоить новой точке класс большинства ближайшех точек вокруг. На изображении выше, видно что два из трех ближайщех точек принадлежат классу `Красные` и одна тчока принадлежит классу `Фиолетовые`. Поэтому новая точка будет классифицирована как `Красный`."
   ]
  },
  {
   "cell_type": "markdown",
   "metadata": {},
   "source": [
    "## Датасет\n",
    "\n",
    "В качестве датасет мы будем использовать знаменитый датасет `iris`. Датасет состоит из четырех аттрибутов: `sepal-width`, `sepal-length`, `petal-width` и `petal-length`. Это аттрибуты конкретных типов расстения ирис. Задачей является предсказать к какому типу ириса относится конкретное расстение. Есть три класса в нашем датасете: `Iris-setosa`, `Iris-versicolor` и `Iris-virginica`.\n",
    "\n",
    "Каждое расстение имеет уникальные признаки: `sepal length` (длина чашелистика), `sepal width` (ширина чашелистика), `petal length` (длина лепестка) и `petal width` (ширина лепестка). \n",
    "\n",
    "Давайте посмотрим на данные в pandas, но работать для реализации классов будем со списками."
   ]
  },
  {
   "cell_type": "code",
   "execution_count": 503,
   "metadata": {},
   "outputs": [
    {
     "data": {
      "text/html": [
       "<div>\n",
       "<style scoped>\n",
       "    .dataframe tbody tr th:only-of-type {\n",
       "        vertical-align: middle;\n",
       "    }\n",
       "\n",
       "    .dataframe tbody tr th {\n",
       "        vertical-align: top;\n",
       "    }\n",
       "\n",
       "    .dataframe thead th {\n",
       "        text-align: right;\n",
       "    }\n",
       "</style>\n",
       "<table border=\"1\" class=\"dataframe\">\n",
       "  <thead>\n",
       "    <tr style=\"text-align: right;\">\n",
       "      <th></th>\n",
       "      <th>sepal-length</th>\n",
       "      <th>sepal-width</th>\n",
       "      <th>petal-length</th>\n",
       "      <th>petal-width</th>\n",
       "      <th>Class</th>\n",
       "    </tr>\n",
       "  </thead>\n",
       "  <tbody>\n",
       "    <tr>\n",
       "      <th>0</th>\n",
       "      <td>5.1</td>\n",
       "      <td>3.5</td>\n",
       "      <td>1.4</td>\n",
       "      <td>0.2</td>\n",
       "      <td>Iris-setosa</td>\n",
       "    </tr>\n",
       "    <tr>\n",
       "      <th>1</th>\n",
       "      <td>4.9</td>\n",
       "      <td>3.0</td>\n",
       "      <td>1.4</td>\n",
       "      <td>0.2</td>\n",
       "      <td>Iris-setosa</td>\n",
       "    </tr>\n",
       "    <tr>\n",
       "      <th>2</th>\n",
       "      <td>4.7</td>\n",
       "      <td>3.2</td>\n",
       "      <td>1.3</td>\n",
       "      <td>0.2</td>\n",
       "      <td>Iris-setosa</td>\n",
       "    </tr>\n",
       "    <tr>\n",
       "      <th>3</th>\n",
       "      <td>4.6</td>\n",
       "      <td>3.1</td>\n",
       "      <td>1.5</td>\n",
       "      <td>0.2</td>\n",
       "      <td>Iris-setosa</td>\n",
       "    </tr>\n",
       "    <tr>\n",
       "      <th>4</th>\n",
       "      <td>5.0</td>\n",
       "      <td>3.6</td>\n",
       "      <td>1.4</td>\n",
       "      <td>0.2</td>\n",
       "      <td>Iris-setosa</td>\n",
       "    </tr>\n",
       "    <tr>\n",
       "      <th>...</th>\n",
       "      <td>...</td>\n",
       "      <td>...</td>\n",
       "      <td>...</td>\n",
       "      <td>...</td>\n",
       "      <td>...</td>\n",
       "    </tr>\n",
       "    <tr>\n",
       "      <th>145</th>\n",
       "      <td>6.7</td>\n",
       "      <td>3.0</td>\n",
       "      <td>5.2</td>\n",
       "      <td>2.3</td>\n",
       "      <td>Iris-virginica</td>\n",
       "    </tr>\n",
       "    <tr>\n",
       "      <th>146</th>\n",
       "      <td>6.3</td>\n",
       "      <td>2.5</td>\n",
       "      <td>5.0</td>\n",
       "      <td>1.9</td>\n",
       "      <td>Iris-virginica</td>\n",
       "    </tr>\n",
       "    <tr>\n",
       "      <th>147</th>\n",
       "      <td>6.5</td>\n",
       "      <td>3.0</td>\n",
       "      <td>5.2</td>\n",
       "      <td>2.0</td>\n",
       "      <td>Iris-virginica</td>\n",
       "    </tr>\n",
       "    <tr>\n",
       "      <th>148</th>\n",
       "      <td>6.2</td>\n",
       "      <td>3.4</td>\n",
       "      <td>5.4</td>\n",
       "      <td>2.3</td>\n",
       "      <td>Iris-virginica</td>\n",
       "    </tr>\n",
       "    <tr>\n",
       "      <th>149</th>\n",
       "      <td>5.9</td>\n",
       "      <td>3.0</td>\n",
       "      <td>5.1</td>\n",
       "      <td>1.8</td>\n",
       "      <td>Iris-virginica</td>\n",
       "    </tr>\n",
       "  </tbody>\n",
       "</table>\n",
       "<p>150 rows × 5 columns</p>\n",
       "</div>"
      ],
      "text/plain": [
       "     sepal-length  sepal-width  petal-length  petal-width           Class\n",
       "0             5.1          3.5           1.4          0.2     Iris-setosa\n",
       "1             4.9          3.0           1.4          0.2     Iris-setosa\n",
       "2             4.7          3.2           1.3          0.2     Iris-setosa\n",
       "3             4.6          3.1           1.5          0.2     Iris-setosa\n",
       "4             5.0          3.6           1.4          0.2     Iris-setosa\n",
       "..            ...          ...           ...          ...             ...\n",
       "145           6.7          3.0           5.2          2.3  Iris-virginica\n",
       "146           6.3          2.5           5.0          1.9  Iris-virginica\n",
       "147           6.5          3.0           5.2          2.0  Iris-virginica\n",
       "148           6.2          3.4           5.4          2.3  Iris-virginica\n",
       "149           5.9          3.0           5.1          1.8  Iris-virginica\n",
       "\n",
       "[150 rows x 5 columns]"
      ]
     },
     "execution_count": 503,
     "metadata": {},
     "output_type": "execute_result"
    }
   ],
   "source": [
    "import pandas as pd\n",
    "\n",
    "url = \"https://archive.ics.uci.edu/ml/machine-learning-databases/iris/iris.data\"\n",
    "\n",
    "# Назовем колонки датасета\n",
    "names = ['sepal-length', 'sepal-width', 'petal-length', 'petal-width', 'Class']\n",
    "\n",
    "# создадим датасет\n",
    "dataset = pd.read_csv(url, names=names)\n",
    "dataset"
   ]
  },
  {
   "cell_type": "markdown",
   "metadata": {},
   "source": [
    "**Задание 1 - 0.5 балла**\n",
    "\n",
    "Подготовьте данные для работы: в переменную X определите список из пар числе отвечающих за sepal-length и sepal-width соответственно. В переменную y - за правильные классы для тех же строк."
   ]
  },
  {
   "cell_type": "code",
   "execution_count": 504,
   "metadata": {},
   "outputs": [],
   "source": [
    "X = []\n",
    "y = []\n",
    "for i in range(len(dataset)):\n",
    "    X.append([dataset.iloc[i]['sepal-length'], dataset.iloc[i]['sepal-width']])\n",
    "    y.append(dataset.iloc[i]['Class'])"
   ]
  },
  {
   "cell_type": "code",
   "execution_count": 505,
   "metadata": {},
   "outputs": [],
   "source": [
    "# если вы сделали все правильно - эта ячейка не должна выдать ошибок:\n",
    "assert len(X) == 150\n",
    "assert len(y) == 150\n",
    "assert len(X[0]) == 2"
   ]
  },
  {
   "cell_type": "markdown",
   "metadata": {},
   "source": [
    "**Задание 2 - 0.5 балла**\n",
    "\n",
    "Визуализируйте данные - отобразите на графике зависимость длины от ширины"
   ]
  },
  {
   "cell_type": "code",
   "execution_count": 54,
   "metadata": {},
   "outputs": [
    {
     "data": {
      "image/png": "[encoded data removed]",
      "text/plain": [
       "<Figure size 432x288 with 1 Axes>"
      ]
     },
     "metadata": {
      "needs_background": "light"
     },
     "output_type": "display_data"
    }
   ],
   "source": [
    "import matplotlib.pyplot as plt\n",
    "%matplotlib inline\n",
    "\n",
    "plt.figure()\n",
    "plt.scatter(dataset['sepal-length'], dataset['sepal-width'], c='deeppink')\n",
    "plt.title(\"Iris Sepal-length vs Sepal-width\")\n",
    "plt.show()"
   ]
  },
  {
   "cell_type": "markdown",
   "metadata": {},
   "source": [
    "**Задание 3 - 0.5 балла**\n",
    "\n",
    "Используя функцию train_test_split из библиотеки **sklearn** разбейте выборку на train и test в соотношении 4/1 соответственно. Зафиксируйте __random_state__ в значении 42"
   ]
  },
  {
   "cell_type": "code",
   "execution_count": 506,
   "metadata": {},
   "outputs": [],
   "source": [
    "from sklearn.model_selection import train_test_split\n",
    "\n",
    "X_train, X_test, y_train, y_test = train_test_split(X, y, random_state = 42, test_size = 0.2)"
   ]
  },
  {
   "cell_type": "code",
   "execution_count": 507,
   "metadata": {},
   "outputs": [],
   "source": [
    "# проверка\n",
    "assert len(X_train) == 120 and len(X_test) == 30"
   ]
  },
  {
   "cell_type": "markdown",
   "metadata": {},
   "source": [
    "## Простая реализация kNN\n",
    "Теперь, имея обучающую выборку, можно реализовать и сам алгоритм классификации. В качестве способа нахождения расстояния от искомой точки до ближайщих соседей, будем использовать `евклидово расстояние`. Для определения расстояния между объектами можно использовать не только евклидово расстояние: также применяются манхэттенское расстояние, косинусная мера, критерий корелляции Пирсона и др.\n",
    "\n",
    "![](https://upload.wikimedia.org/wikipedia/commons/thumb/5/55/Euclidean_distance_2d.svg/220px-Euclidean_distance_2d.svg.png)"
   ]
  },
  {
   "cell_type": "markdown",
   "metadata": {},
   "source": [
    "**Задание 4 - 0.5 балла**\n",
    "\n",
    "Реализуйте функцию `dist` ниже, вычисляющую евклидово расстояние между двумя парами точек на плоскости. `a` и `b` - списки из двух элементов"
   ]
  },
  {
   "cell_type": "code",
   "execution_count": 148,
   "metadata": {},
   "outputs": [],
   "source": [
    "def dist(a, b):\n",
    "    xa, ya = a[0], a[1]\n",
    "    xb, yb = b[0], b[1]\n",
    "    distance = ((xa - xb)**2 + (ya - yb)**2) ** 0.5\n",
    "    return distance"
   ]
  },
  {
   "cell_type": "markdown",
   "metadata": {},
   "source": [
    "**Задание 5 - 0.5 балла**\n",
    "\n",
    "Дополните функцию определяющую класс точки созданием словаря, где ключем является класс а значеним - количество соседей с этим классов из k-соседей."
   ]
  },
  {
   "cell_type": "code",
   "execution_count": 333,
   "metadata": {},
   "outputs": [],
   "source": [
    "def predict(X_train, y_train, x_test, k):\n",
    "    # создадим список, где будем хранить расстояния и типы ближайших соседей\n",
    "    distances = []\n",
    "    targets = {}\n",
    "\n",
    "    for i in range(len(X_train)):\n",
    "        # пройдем по всем точкам и посчитаем расстояние до них от тестовой точки\n",
    "        distances.append([dist(x_test,X_train[i]), i])\n",
    "\n",
    "    # отсортируем расстояния - так первыми будут идти соседи с минимальными расстояниями\n",
    "    distances = sorted(distances)\n",
    "     \n",
    "    # создадим словарь с k ближайщими значениями targets\n",
    "    for j in range(k):\n",
    "        position = distances[j][1]\n",
    "        if y_train[position] not in targets.keys():\n",
    "            targets[y_train[position]] = 0\n",
    "        targets[y_train[position]] += 1\n",
    "       \n",
    "    # вернем самую часто встречающаюся метку\n",
    "    return max(targets,key=targets.get)"
   ]
  },
  {
   "cell_type": "code",
   "execution_count": 339,
   "metadata": {},
   "outputs": [
    {
     "name": "stdout",
     "output_type": "stream",
     "text": [
      "[2, 4, 5, 6, 7, 33, 43, 80]\n"
     ]
    }
   ],
   "source": [
    "a = [2, 4,33, 43, 80, 6, 7, 5]\n",
    "print(sorted(a))"
   ]
  },
  {
   "cell_type": "markdown",
   "metadata": {},
   "source": [
    "**Задание 6 - 0.5 балла**\n",
    "\n",
    "Сделайте предсказание с использованием функции выше для всех точек из тестового множества и параметром `k` равным 7"
   ]
  },
  {
   "cell_type": "code",
   "execution_count": 246,
   "metadata": {},
   "outputs": [],
   "source": [
    "# Создадим список с будущими предсказаниями\n",
    "predictions = []\n",
    "# количество соседей\n",
    "k = 7\n",
    "# идем по все тестовым данным\n",
    "for flower in X_test:\n",
    "    prediction = predict(X_train, y_train, flower, k)\n",
    "    predictions.append(prediction)"
   ]
  },
  {
   "cell_type": "code",
   "execution_count": 247,
   "metadata": {},
   "outputs": [],
   "source": [
    "assert len([item for item in predictions if item=='Iris-setosa' ]) == 10"
   ]
  },
  {
   "cell_type": "markdown",
   "metadata": {},
   "source": [
    "Визуализируем изначальные метки. Переведем текстовые значения меток в численные, чтобы можно было построить график, где точки разного цвета (аргумент, которые отвечает за цвет в matplotlib, принимает категории, записанные числами)."
   ]
  },
  {
   "cell_type": "markdown",
   "metadata": {},
   "source": [
    "**Задание 7 - 0.5 балла**\n",
    "\n",
    "Визаулизируейте с использованием графика `scatter` и цветных точек распределение объектов в осях длины-ширины по классам отдельно для точек из тренировочной и тестовой выборок (должно получиться два графика, похожих на график в примере)."
   ]
  },
  {
   "cell_type": "code",
   "execution_count": 188,
   "metadata": {},
   "outputs": [],
   "source": [
    "# Может, я что-то упускаю, но так строить график удобнее\n",
    "\n",
    "def get_coord(lst):\n",
    "    lenght = []\n",
    "    width = [] \n",
    "    for el in lst:\n",
    "        lenght.append(el[0])\n",
    "        width.append(el[1])    \n",
    "    return lenght, width\n",
    "\n",
    "def get_color(lst):\n",
    "    book = {'Iris-setosa':1, 'Iris-versicolor':2, 'Iris-virginica':3}\n",
    "    color_code = []\n",
    "    for flower in lst:\n",
    "        color_code.append(book[flower])\n",
    "    return color_code"
   ]
  },
  {
   "cell_type": "code",
   "execution_count": 201,
   "metadata": {},
   "outputs": [
    {
     "data": {
      "image/png": "[encoded data removed]",
      "text/plain": [
       "<Figure size 432x288 with 1 Axes>"
      ]
     },
     "metadata": {
      "needs_background": "light"
     },
     "output_type": "display_data"
    }
   ],
   "source": [
    "# Визуализируем тренировочный датасет\n",
    "train_lenght, train_width = get_coord(X_train)\n",
    "train_color = get_color(y_train)\n",
    "\n",
    "plt.figure()\n",
    "plt.scatter(train_lenght, train_width, c = train_color)\n",
    "plt.title(\"Iris Train Dataset\")\n",
    "plt.show()"
   ]
  },
  {
   "cell_type": "code",
   "execution_count": 204,
   "metadata": {},
   "outputs": [
    {
     "data": {
      "image/png": "[encoded data removed]",
      "text/plain": [
       "<Figure size 432x288 with 1 Axes>"
      ]
     },
     "metadata": {
      "needs_background": "light"
     },
     "output_type": "display_data"
    }
   ],
   "source": [
    "# Визуализируем тестовый датасет c предсказанием\n",
    "train_lenght, train_width = get_coord(X_test)\n",
    "train_color = get_color(predictions)\n",
    "\n",
    "plt.figure()\n",
    "plt.scatter(train_lenght, train_width, c = train_color)\n",
    "plt.title(\"Iris Test Dataset (with predictions)\")\n",
    "plt.show()"
   ]
  },
  {
   "cell_type": "code",
   "execution_count": 205,
   "metadata": {},
   "outputs": [
    {
     "data": {
      "image/png": "[encoded data removed]",
      "text/plain": [
       "<Figure size 432x288 with 1 Axes>"
      ]
     },
     "metadata": {
      "needs_background": "light"
     },
     "output_type": "display_data"
    }
   ],
   "source": [
    "# ... и в реальности\n",
    "train_lenght, train_width = get_coord(X_test)\n",
    "train_color = get_color(y_test)\n",
    "\n",
    "plt.figure()\n",
    "plt.scatter(train_lenght, train_width, c = train_color)\n",
    "plt.title(\"Iris Test Dataset\")\n",
    "plt.show()"
   ]
  },
  {
   "cell_type": "code",
   "execution_count": null,
   "metadata": {},
   "outputs": [],
   "source": [
    "# Вышло как-то не очень точно и сразу захотелось измерить accuracy"
   ]
  },
  {
   "cell_type": "markdown",
   "metadata": {},
   "source": [
    "**Задание 8 - 0.5 балла**\n",
    "\n",
    "Используя библиотеку __sklearn__ рассчитайте значение метрики доли правильных ответов (accuracy) для получившихся предсказаний на тестовой выборке"
   ]
  },
  {
   "cell_type": "code",
   "execution_count": 209,
   "metadata": {},
   "outputs": [
    {
     "name": "stdout",
     "output_type": "stream",
     "text": [
      "0.73333%\n"
     ]
    }
   ],
   "source": [
    "from sklearn.metrics import accuracy_score\n",
    "\n",
    "accuracy = accuracy_score(predictions, y_test)\n",
    "\n",
    "print(round(accuracy, 5), '%', sep='')"
   ]
  },
  {
   "cell_type": "markdown",
   "metadata": {},
   "source": [
    "**Задание 9 - 1 балл**\n",
    "\n",
    "Попробуйте предсказывать классы с использованием различного параметра `k` в интервале от 1 до 15. При каком значении достигается оптимальное качество? Как это можно объяснить?"
   ]
  },
  {
   "cell_type": "code",
   "execution_count": 561,
   "metadata": {},
   "outputs": [
    {
     "name": "stdout",
     "output_type": "stream",
     "text": [
      "[0.867, 6]\n",
      "[0.867, 4]\n",
      "[0.833, 15]\n",
      "[0.833, 10]\n",
      "[0.8, 12]\n",
      "[0.8, 9]\n",
      "[0.8, 8]\n",
      "[0.8, 5]\n",
      "[0.8, 3]\n",
      "[0.8, 2]\n",
      "[0.8, 1]\n",
      "[0.767, 14]\n",
      "[0.767, 13]\n",
      "[0.767, 11]\n",
      "[0.733, 7]\n",
      "________________________________________________________________\n",
      "При к = 6 и к = 4 достигается наибольшее значение accuracy 0.867\n"
     ]
    }
   ],
   "source": [
    "all_k = []\n",
    "\n",
    "for k in range(1,16):\n",
    "    preds = []\n",
    "    for flower in X_test:\n",
    "        prediction = predict(X_train, y_train, flower, k)\n",
    "        preds.append(prediction) \n",
    "    accuracy = accuracy_score(preds, y_test)\n",
    "    all_k.append([round(accuracy, 3), k])\n",
    "\n",
    "\n",
    "all_k = sorted(all_k, reverse = True)\n",
    "for el in all_k:\n",
    "    print(el)\n",
    "\n",
    "best_ac, best_k = all_k[0]\n",
    "best_ac, best_k2 = all_k[1]\n",
    "\n",
    "print('________________________________________________________________')\n",
    "print('При к = %d и к = %d достигается наибольшее значение accuracy %s' % (best_k, best_k2, round(best_ac, 4)))"
   ]
  },
  {
   "cell_type": "markdown",
   "metadata": {},
   "source": [
    "*Место для вашего вывода:*"
   ]
  },
  {
   "cell_type": "markdown",
   "metadata": {},
   "source": [
    "Больше - не езначит лучше. Поскольку у нас очень мало наблюдений - всего 120, использование слишком большого количества соседей приведет к снижению точности из-за размытия границ между классами и \"прямой\" границы, а при малом числе соседей KNN будет обладать низкой обобщающей способностью, что может привести к переобучению. Подбор параметра обычно осуществляется при помощи кросс-валидации. (источник: http://www.machinelearning.ru/wiki/index.php?title=Метод_ближайшего_соседа)\n",
    "\n",
    "(В конце в задании 17 добавлен график зависимости качества от количества к)"
   ]
  },
  {
   "cell_type": "markdown",
   "metadata": {},
   "source": [
    "## **Задание 10 - 2 балла**\n",
    "\n",
    "**0.5 балла**  \n",
    "Давайте немного изменим задание. Давайте представим, что нас теперь интересует только класс ирисов setosa. Создайте переменные y_train_setosa и y_test_setosa, где ирисы setosa будут закодированы единицами, а остальные нулями.\n",
    "\n",
    "\n",
    "**1 балл (каждая функция - 0.5 балла)**  \n",
    "В качестве метрики качества самостоятельно реализуйте функции, считающие метрики Precision и Recall. \n",
    "![](https://miro.medium.com/max/1068/1*EXa-_699fntpUoRjZeqAFQ.jpeg)\n",
    "\n",
    "**0.5 балла**  \n",
    "Снова предскажите виды ирисов на тестовой выборке, но теперь  с y_train_setosa и y_test_setosa при разных параметрах `k` в интервале от 1 до 15. Постройте график изменения данных метрик (линейный тренд)."
   ]
  },
  {
   "cell_type": "code",
   "execution_count": 239,
   "metadata": {},
   "outputs": [
    {
     "data": {
      "text/plain": [
       "{'Iris-setosa', 'Iris-versicolor', 'Iris-virginica'}"
      ]
     },
     "execution_count": 239,
     "metadata": {},
     "output_type": "execute_result"
    }
   ],
   "source": [
    "set(y_test)"
   ]
  },
  {
   "cell_type": "code",
   "execution_count": 241,
   "metadata": {},
   "outputs": [],
   "source": [
    "def get_setosa(lst):\n",
    "    new_lst = []\n",
    "    for el in lst:\n",
    "        if el == 'Iris-setosa':\n",
    "            new_lst.append(1)\n",
    "        else:\n",
    "            new_lst.append(0)\n",
    "    return new_lst"
   ]
  },
  {
   "cell_type": "code",
   "execution_count": 244,
   "metadata": {},
   "outputs": [],
   "source": [
    "y_train_setosa = get_setosa(y_train)\n",
    "y_test_setosa = get_setosa(y_test)"
   ]
  },
  {
   "cell_type": "code",
   "execution_count": 252,
   "metadata": {},
   "outputs": [],
   "source": [
    "def metrics(preds, real):\n",
    "    \n",
    "    TP = 0\n",
    "    TN = 0\n",
    "    FP = 0\n",
    "    FN = 0\n",
    "    \n",
    "    for i in range(len(preds)):\n",
    "        if preds[i] == 0:\n",
    "            if real[i] == 0:\n",
    "                TN += 1\n",
    "            else:\n",
    "                FN += 1\n",
    "        elif preds[i] == 1:\n",
    "            if real[i] == 1:\n",
    "                TP += 1\n",
    "            else:\n",
    "                FP += 1\n",
    "                \n",
    "    precision = TP / (TP + FP)\n",
    "    recall = TP / (TP + FN)\n",
    "    F1 = 2 * ((precision*recall)/(precision+recall))\n",
    "            \n",
    "    return precision, recall, F1"
   ]
  },
  {
   "cell_type": "code",
   "execution_count": 282,
   "metadata": {},
   "outputs": [
    {
     "name": "stdout",
     "output_type": "stream",
     "text": [
      "(0.5, 1.0, 0.6666666666666666)\n"
     ]
    }
   ],
   "source": [
    "# Проверяем как работают метрики\n",
    "x = [1, 0, 0, 0, 0, 1]\n",
    "y = [1, 0, 0, 0, 0, 0]\n",
    "print(metrics(x, y))"
   ]
  },
  {
   "cell_type": "code",
   "execution_count": 285,
   "metadata": {},
   "outputs": [],
   "source": [
    "# Создадим список с будущими предсказаниями\n",
    "setosa_predictions = []\n",
    "# количество соседей\n",
    "k = 7\n",
    "# идем по все тестовым данным\n",
    "for flower in X_test:\n",
    "    prediction = predict(X_train, y_train_setosa, flower, k)\n",
    "    setosa_predictions.append(prediction)"
   ]
  },
  {
   "cell_type": "code",
   "execution_count": 286,
   "metadata": {},
   "outputs": [
    {
     "name": "stdout",
     "output_type": "stream",
     "text": [
      "[0, 1, 0, 0, 0, 1, 0, 0, 0, 0, 0, 1, 1, 1, 1, 0, 0, 0, 0, 0, 1, 0, 1, 0, 0, 0, 0, 0, 1, 1]\n",
      "[0, 1, 0, 0, 0, 1, 0, 0, 0, 0, 0, 1, 1, 1, 1, 0, 0, 0, 0, 0, 1, 0, 1, 0, 0, 0, 0, 0, 1, 1]\n"
     ]
    }
   ],
   "source": [
    "# Я просто хочу знать что всё в порядке...\n",
    "print(setosa_predictions)\n",
    "print(y_test_setosa)"
   ]
  },
  {
   "cell_type": "code",
   "execution_count": 270,
   "metadata": {},
   "outputs": [
    {
     "name": "stdout",
     "output_type": "stream",
     "text": [
      "1.0 1.0 1.0\n"
     ]
    }
   ],
   "source": [
    "precision, recall, F1 = metrics(setosa_predictions, y_test_setosa)\n",
    "print(precision, recall, F1)"
   ]
  },
  {
   "cell_type": "code",
   "execution_count": 271,
   "metadata": {},
   "outputs": [],
   "source": [
    "# Получилась идеальная точность. Что ж, испортим вручную предсказание, чтобы проверить, работают ли функции\n",
    "setosa_predictions_wrong = [1, 0, 1, 0, 0, 1, 0, 0, 0, 0, 0, 1, 1, 1, 1, 0, 0, 0, 0, 0, 1, 0, 1, 0, 0, 0, 0, 0, 1, 1]"
   ]
  },
  {
   "cell_type": "code",
   "execution_count": 562,
   "metadata": {},
   "outputs": [
    {
     "name": "stdout",
     "output_type": "stream",
     "text": [
      "0.8181818181818182 0.9 0.8571428571428572\n"
     ]
    }
   ],
   "source": [
    "# На неправильных предсказаниях программа оценки метрик работает (думаю, это хорошо)\n",
    "precision2, recall2, F12 = metrics(setosa_predictions_wrong, y_test_setosa)\n",
    "print(precision2, recall2, F12)"
   ]
  },
  {
   "cell_type": "markdown",
   "metadata": {},
   "source": [
    "##### Перейдем к последней части задания - визуализации: \n",
    "\n",
    "(Включает в себя задание 11)"
   ]
  },
  {
   "cell_type": "code",
   "execution_count": 305,
   "metadata": {},
   "outputs": [],
   "source": [
    "import matplotlib.pyplot as plt  \n",
    "\n",
    "# магическая функция, чтобы графики отображались в блокноте под ячейками\n",
    "%matplotlib inline  "
   ]
  },
  {
   "cell_type": "code",
   "execution_count": 306,
   "metadata": {},
   "outputs": [],
   "source": [
    "all_k = []\n",
    "\n",
    "for k in range(1,16):\n",
    "    preds = []\n",
    "    for flower in X_test:\n",
    "        prediction = predict(X_train, y_train_setosa, flower, k)\n",
    "        preds.append(prediction) \n",
    "    precision, recall, F1 = metrics(preds, y_test_setosa)\n",
    "    all_k.append([k, precision, recall, F1])"
   ]
  },
  {
   "cell_type": "code",
   "execution_count": 321,
   "metadata": {
    "scrolled": true
   },
   "outputs": [
    {
     "data": {
      "image/png": "[encoded data removed]",
      "text/plain": [
       "<Figure size 360x864 with 3 Axes>"
      ]
     },
     "metadata": {
      "needs_background": "light"
     },
     "output_type": "display_data"
    }
   ],
   "source": [
    "prec = []\n",
    "rec = []\n",
    "F1 = []\n",
    "kk = []\n",
    "\n",
    "for el in all_k:\n",
    "    kk.append(el[0])\n",
    "    prec.append(el[1])\n",
    "    rec.append(el[2])\n",
    "    F1.append(el[3])\n",
    "    \n",
    "\n",
    "fig, ax = plt.subplots(3, 1, figsize=(5,12))\n",
    "ax[0].plot(kk, prec, label = 'precision', color='red')\n",
    "ax[1].plot(kk, rec, label = 'recall', color='blue')\n",
    "ax[2].plot(kk, F1, label = 'F1', color='orange')\n",
    "\n",
    "for i in range(3):\n",
    "        ax[i].set_xlabel('Metrics', fontsize = 10)\n",
    "        ax[i].set_ylabel('Number of K', fontsize = 10)\n",
    "        ax[i].legend(loc=1, fontsize=11, frameon=False)\n"
   ]
  },
  {
   "cell_type": "markdown",
   "metadata": {},
   "source": [
    "## **Задание 11 - 1 балл**\n",
    "\n",
    "Реализуйте самостоятельно функцию, вычисляющую метрику f_score (см. выше). Снова предскажите виды ирисов на тестовой выборке, но тепероь с y_train_setosa и y_test_setosa при разных параметрах k в интервале от 1 до 15. При каком значении параметра `k` достигается лучшее значение данной метрики?"
   ]
  },
  {
   "cell_type": "markdown",
   "metadata": {},
   "source": [
    "### ╰( ͡° ͜ʖ ͡° )つ──☆*:・ﾟ"
   ]
  },
  {
   "cell_type": "code",
   "execution_count": null,
   "metadata": {},
   "outputs": [],
   "source": [
    "# Я решаю задания последовательно, поэтому вывела все это для F1 в предыдущем пункте. \n",
    "# Чтобы не делать блкнот слишком длинным я не буду дублировать код."
   ]
  },
  {
   "cell_type": "markdown",
   "metadata": {},
   "source": [
    "**Задание 12 - 1.5 балла**\n",
    "\n",
    "Реализуйте новую функцию расстояния вместо эквлидового на выбор:\n",
    "- $dist(x1,y1, x2,y2) = |x1-x2| + |y1-y2|$\n",
    "- $dist(x1,y1, x2,y2) = max(|x1-x2|, |y1-y2|)$\n",
    "\n",
    "Постройте график зависимости качества модели в терминах доли правильных ответов (accuracy) и f-меры (f-score) в зависимости от параметра `k` модели в интервале от 1 до 15. "
   ]
  },
  {
   "cell_type": "code",
   "execution_count": 324,
   "metadata": {},
   "outputs": [],
   "source": [
    "import math\n",
    "\n",
    "def dist1(x1,y1,x2,y2):\n",
    "    return math.fabs(x1 - x2) + math.fabs(y1 - y2)\n",
    "    \n",
    "def dist2(x1,y1,x2,y2):\n",
    "    a = math.fabs(x1 - x2)\n",
    "    b = math.fabs(y1 - y2)\n",
    "    return max(a, b)\n",
    "\n",
    "# Мне больше нравится первое"
   ]
  },
  {
   "cell_type": "code",
   "execution_count": 331,
   "metadata": {},
   "outputs": [
    {
     "name": "stdout",
     "output_type": "stream",
     "text": [
      "3.6\n"
     ]
    }
   ],
   "source": [
    "print(X_train[0][1])"
   ]
  },
  {
   "cell_type": "code",
   "execution_count": 334,
   "metadata": {},
   "outputs": [],
   "source": [
    "def predict_new(X_train, y_train, x_test, k):\n",
    "    # создадим список, где будем хранить расстояния и типы ближайших соседей\n",
    "    distances = []\n",
    "    targets = {}\n",
    "\n",
    "    for i in range(len(X_train)):\n",
    "        train1 = X_train[i][0]\n",
    "        train2 = X_train[i][1]\n",
    "        test1 = x_test[0]\n",
    "        test2 = x_test[1]\n",
    "        distances.append([dist1(train1, train2, test1, test2), i])\n",
    "\n",
    "    # отсортируем расстояния\n",
    "    distances = sorted(distances)\n",
    "    \n",
    "    \n",
    "    # создадим словарь с k ближайщими значениями targets\n",
    "    for j in range(k):\n",
    "        position = distances[j][1]\n",
    "        if y_train[position] not in targets.keys():\n",
    "            targets[y_train[position]] = 0\n",
    "        targets[y_train[position]] += 1\n",
    "       \n",
    "    # вернем самую часто встречающаюся метку\n",
    "    return max(targets,key=targets.get)"
   ]
  },
  {
   "cell_type": "code",
   "execution_count": 338,
   "metadata": {},
   "outputs": [
    {
     "name": "stdout",
     "output_type": "stream",
     "text": [
      "[[1, 1.0, 1.0], [2, 1.0, 1.0], [3, 1.0, 1.0], [4, 1.0, 1.0], [5, 1.0, 1.0], [6, 1.0, 1.0], [7, 1.0, 1.0], [8, 1.0, 1.0], [9, 1.0, 1.0], [10, 1.0, 1.0], [11, 1.0, 1.0], [12, 1.0, 1.0], [13, 1.0, 1.0], [14, 1.0, 1.0], [15, 1.0, 1.0]]\n"
     ]
    }
   ],
   "source": [
    "all_k = []\n",
    "\n",
    "for k in range(1,16):\n",
    "    preds = []\n",
    "    for flower in X_test:\n",
    "        prediction = predict_new(X_train, y_train_setosa, flower, k)\n",
    "        preds.append(prediction) \n",
    "    precision, recall, F1 = metrics(preds, y_test_setosa)\n",
    "    accuracy = accuracy_score(preds, y_test_setosa)\n",
    "    all_k.append([k, accuracy, F1])\n",
    "    \n",
    "print(all_k)"
   ]
  },
  {
   "cell_type": "markdown",
   "metadata": {},
   "source": [
    "Нам по-прежнему все равно, какое количество соседей использовать."
   ]
  },
  {
   "cell_type": "markdown",
   "metadata": {},
   "source": [
    "### **Задание 13 - 0.5 балл**\n",
    "\n",
    "Основывась на все эксперименты и метрики выше, еще раз запустите лучшую модель при лучших параметрах (мера расстояния, функция измерения ошибки, количество соседей). Опционально: попробуйте обяснить, почему выбранные параметры обеспечивают наиболее качественное решение"
   ]
  },
  {
   "cell_type": "code",
   "execution_count": 322,
   "metadata": {},
   "outputs": [
    {
     "name": "stdout",
     "output_type": "stream",
     "text": [
      "(1.0, 1.0, 1.0)\n"
     ]
    }
   ],
   "source": [
    "# запускаем любую модель\n",
    "\n",
    "setosa_predictions = []\n",
    "k = 6\n",
    "\n",
    "for flower in X_test:\n",
    "    prediction = predict(X_train, y_train_setosa, flower, k)\n",
    "    setosa_predictions.append(prediction)\n",
    "\n",
    "print(metrics(preds, y_test_setosa))  # precision, recall, F1"
   ]
  },
  {
   "cell_type": "markdown",
   "metadata": {},
   "source": [
    "### ╰( ͡° ͜ʖ ͡° )つ──☆*:・ﾟ"
   ]
  },
  {
   "cell_type": "markdown",
   "metadata": {},
   "source": [
    "*Мы видим, что при любом количестве соседей от 1 до 15 KNN достигает абсолютной точности в задачи бинарной классификации принадлежности к виду Iris-setosa. Это вызвано тем, что все цветы данного вида локализованы в левом верхнем углу в координатах длина-ширина лепестков, то есть имеют в среднем большую ширину при меньшей длине, чем цветы, принадлежащие к другой выборке. То, что все Setosa локализованы отдельно, позволяет правильно определить, принадлежит ли тестируемый цветок к данному виду или нет, основываясь на любом количестве соседей из диапазона: setosa окружен setosa, и самое частотное предсказание для его соседей это 1, а не-setosa окружен другими не-setosa. Для данной задачи можно запустить любую модель, и я выберу 6, т.к. это оптимальное К для предыдущей задачи.*"
   ]
  },
  {
   "cell_type": "markdown",
   "metadata": {},
   "source": [
    "# Бонусная часть"
   ]
  },
  {
   "cell_type": "markdown",
   "metadata": {},
   "source": [
    "В рамках данной части вам предлагается реализовать похожие вещи в виде класса и воспроизвести схожые эксперименты. Баллы набранные за эту часть задания \"останутся\" в рамках данной домашней работы, однако могут компенсировать какие либо огрехи и пропущенные задания выше. Итоговая оценка за данную работу даже при полностью решенных задачах не может составлять более 10 баллов.\n",
    "\n",
    "Чтобы сделать это задание, нужно самостоятельно разобраться с классами. Например, по этому блокноту:\n",
    "https://github.com/rogovich/2020_MIREC_PfDA/blob/master/%40HW/2_HW/Bonus_Classes.ipynb"
   ]
  },
  {
   "cell_type": "markdown",
   "metadata": {},
   "source": [
    "## Реализация kNN в виде класса\n",
    "\n",
    "У нас уже есть все нужные нам кирпичики, поэтому реализуем kNN в виде класса. Он у нас будет состоять из конструктора, где мы инициализруем переменные, метода `dist`, который возвращает евклидово расстояние, метода `fit`, который будет задавать переменные обучающей выборки, и метода `predict`, который будет считать дистанции возвращать нам предсказанные значения. Также создадим метод `score`, считающуй accuracy,  и метод `plot`, который будет рисовать графики."
   ]
  },
  {
   "cell_type": "markdown",
   "metadata": {},
   "source": [
    "**Задание 14 - 0 баллов - оно сделано**\n",
    "\n",
    "\n",
    "Конструктор у нас будет просто инициализировать переменные. Как правило в ML мы создаем экземпляр класса не на данных, а с определенными параметрами (например, задаем количество соседей). А данные будем уже передавать методу .fit() (обучение). Чтобы обучать нам сначала нужно определить метод, считающий расстояние. Т.к. этот метод не принимает данные напрямую, а будет только вызываться в predict(), то объявим его статическим. Также \"скроем\" его нижним подчеркиванием (намекнем, что мы не предполагаем, что этот метод должен вызываться от объекта класса)."
   ]
  },
  {
   "cell_type": "markdown",
   "metadata": {},
   "source": [
    "**Задание 15 - 0.5 балла**\n",
    "\n",
    "\n",
    "Теперь давайте определим метод .fit(). Это уже будет динамический метод, который вызывается от экземпляра класса. fit() дожен принимать тренировочную выборку (признаки и ответы) и сохранять ее в атрибуты класса self.X_train и self.y_train "
   ]
  },
  {
   "cell_type": "markdown",
   "metadata": {},
   "source": [
    "**Задание 16 - 0.5 балл**\n",
    "\n",
    "Теперь реализуем predict() - здесь уже будет происходить много всего. Метод будет принимать тестовые точки и находить расстояние от них всех до тренировочных точек. Потом будет брать k соседей и предсказывать по ним класс объекта. Метод должен возвращать вектор предсказанных значений для тестовой выборки.\n",
    "\n",
    "*Подсказка* - многие части могут приехать из ранее написанной функции `predict`."
   ]
  },
  {
   "cell_type": "markdown",
   "metadata": {},
   "source": [
    "**Задание 17 - 1 балл**\n",
    "\n",
    "А теперь давайте еще добавим два метода - подсчет правильности предсказания и рисование графика. plot() будет строить нам два графика - предсказанные значения и правильные \"ответы\". Метод будет динамическим, но будет принимать один внешний аргумент - y_test. Метод score() давайте для тренировки сделаем статистическим (он будет принимать два внешних списка - предсказанные значения и правильные ответы)."
   ]
  },
  {
   "cell_type": "code",
   "execution_count": 523,
   "metadata": {},
   "outputs": [],
   "source": [
    "class KNN:\n",
    "    \"\"\"\n",
    "    k-NN классификатор\n",
    "\n",
    "    Возвращает: предсказания k-NN\n",
    "    \"\"\"\n",
    "\n",
    "    def __init__(self, k):\n",
    "        self.X_train = None\n",
    "        self.y_train = None\n",
    "        self.k = k\n",
    "        self.predictions = []\n",
    "    \n",
    "    @staticmethod\n",
    "    def _dist(a, b):\n",
    "        \"\"\"\n",
    "        Расстояние евклида\n",
    "        Принимает на вход два вектора\n",
    "\n",
    "        Возвращает: число с плавающей точкой\n",
    "        \"\"\"\n",
    "        xa, ya = a[0], a[1]\n",
    "        xb, yb = b[0], b[1]\n",
    "        distance = ((xa - xb)**2 + (ya - yb)**2) ** 0.5\n",
    "        return distance\n",
    "    \n",
    "    @staticmethod\n",
    "    def score(y_test, predictions):\n",
    "        \"\"\"\n",
    "        Принимает на вход два массива с данными: тестовый и предсказанный\n",
    "\n",
    "        Возвращает: число с плавающей точкой\n",
    "        \"\"\"\n",
    "        okay = 0\n",
    "        not_okay = 0\n",
    "        for i in range(len(predictions)):\n",
    "            if predictions[i] == y_test[i]:\n",
    "                okay += 1\n",
    "            else:\n",
    "                not_okay += 1\n",
    "        score = okay / (okay + not_okay)         \n",
    "        return score\n",
    "    \n",
    "    \n",
    "    def fit(self, X_train, y_train):\n",
    "        \"\"\"\n",
    "        Принимает на вход два массива с данными: тренировочный Х и тренировочные лейблы\n",
    "        \"\"\"\n",
    "        self.X_train = X_train\n",
    "        self.y_train = y_train\n",
    "\n",
    "        \n",
    "    def predict(self, X_test):\n",
    "        \"\"\"\n",
    "        Принимает на вход двумерный массив искомых точек\n",
    "\n",
    "        Возвращает: список предсказаний\n",
    "        \"\"\"\n",
    "        for el in X_test:\n",
    "            distances = []\n",
    "            targets = {}      \n",
    "            for i in range(len(self.X_train)):\n",
    "                distances.append([self._dist(el, self.X_train[i]), i])              \n",
    "            distances = sorted(distances)            \n",
    "            for j in range(self.k):\n",
    "                position = distances[j][1]\n",
    "                if self.y_train[position] not in targets.keys():\n",
    "                    targets[self.y_train[position]] = 0\n",
    "                targets[self.y_train[position]] += 1            \n",
    "            preds = max(targets,key=targets.get)            \n",
    "            self.predictions.append(preds)\n",
    "  \n",
    "\n",
    "    # я сделаю два собственных статических метода для построения графика    \n",
    "    @staticmethod\n",
    "    def get_coord(lst):\n",
    "        \"\"\"\n",
    "        Принимает на вход список с координатами вида [x, y]\n",
    "\n",
    "        Возвращает: два отдельных списка координат\n",
    "        \"\"\"\n",
    "        x = []\n",
    "        y = [] \n",
    "        for el in lst:\n",
    "            x.append(el[0])\n",
    "            y.append(el[1])    \n",
    "        return x, y\n",
    "    \n",
    "    \n",
    "    @staticmethod\n",
    "    def get_names(lst):\n",
    "        \"\"\"\n",
    "        Принимает на вход список с любым количеством категорий\n",
    "\n",
    "        Возвращает: исходный список с кодированием элементов\n",
    "        \"\"\"\n",
    "        uniques = set(lst)\n",
    "        unique = []\n",
    "        for s in uniques:\n",
    "            unique.append(s)\n",
    "        dct = {}\n",
    "        for i in range(len(uniques)):\n",
    "            dct[unique[i]] = i \n",
    "            \n",
    "        color_code = []\n",
    "        for el in lst:\n",
    "            color_code.append(dct[el])\n",
    "        return color_code\n",
    "  \n",
    "\n",
    "\n",
    "    def plot(self, y_test):\n",
    "        \"\"\"\n",
    "        Принимает на вход массив меток объектов. \n",
    "\n",
    "        Возвращает два графика (предсказанные метки и правильные метки)\n",
    "        \"\"\"\n",
    "        test_x, test_y = get_coord(X_test)\n",
    "        preds = self.predictions\n",
    "        result = self.get_names(preds)\n",
    "        real = self.get_names(y_test)\n",
    "        \n",
    "        fig, ax = plt.subplots(2, 1, figsize=(6,9))\n",
    "        ax[0].scatter(test_x, test_y, c = result)\n",
    "        ax[0].set_title('Predictions', fontsize = 14)\n",
    "        ax[1].scatter(test_x, test_y, c = real)\n",
    "        ax[1].set_title('Real values', fontsize = 14)\n",
    "        ax[1].set_xlabel('Lenght', fontsize = 9)\n",
    "        ax[0].set_ylabel('Width', fontsize = 9)   \n",
    "        ax[1].set_ylabel('Width', fontsize = 9)       "
   ]
  },
  {
   "cell_type": "code",
   "execution_count": null,
   "metadata": {},
   "outputs": [],
   "source": []
  },
  {
   "cell_type": "code",
   "execution_count": 524,
   "metadata": {},
   "outputs": [],
   "source": [
    "# помощь в проверке что все правильно:\n",
    "assert KNN(2)._dist([2,4],[4,2]) == 2.8284271247461903"
   ]
  },
  {
   "cell_type": "code",
   "execution_count": 525,
   "metadata": {},
   "outputs": [],
   "source": [
    "assert KNN(2).score(['a', 'b'], ['a', 'a']) == 0.5"
   ]
  },
  {
   "cell_type": "markdown",
   "metadata": {},
   "source": [
    "Мой код прошел обе автоматические проверки, теперь продемонстрирую график и точность:"
   ]
  },
  {
   "cell_type": "code",
   "execution_count": 526,
   "metadata": {},
   "outputs": [],
   "source": [
    "model = KNN(7)\n",
    "model.fit(X_train, y_train)\n",
    "model.predict(X_test)"
   ]
  },
  {
   "cell_type": "code",
   "execution_count": 527,
   "metadata": {},
   "outputs": [
    {
     "data": {
      "text/plain": [
       "0.7333333333333333"
      ]
     },
     "execution_count": 527,
     "metadata": {},
     "output_type": "execute_result"
    },
    {
     "data": {
      "image/png": "[encoded data removed]",
      "text/plain": [
       "<Figure size 432x648 with 2 Axes>"
      ]
     },
     "metadata": {
      "needs_background": "light"
     },
     "output_type": "display_data"
    }
   ],
   "source": [
    "model.plot(y_test)\n",
    "model.score(y_test, model.predictions)"
   ]
  },
  {
   "cell_type": "code",
   "execution_count": null,
   "metadata": {},
   "outputs": [],
   "source": []
  },
  {
   "cell_type": "markdown",
   "metadata": {},
   "source": [
    "## Класс kNN с другой функций расстояния\n",
    "\n",
    "Давайт создадим второй класс kNN, который теперь использует другую функцию расстояния. Создавать второй класс с нуля не будем, а воспользуемся свойством классов - наследование. В новой классе поменяем только функцию расстояния, а все остальное оставим таким же. Для нахождения косинусной меры, используем функцию `cosine` из библиотеки `scipy`.\n",
    "\n",
    "![](https://datascience-enthusiast.com/figures/cosine_sim.png)"
   ]
  },
  {
   "cell_type": "code",
   "execution_count": 528,
   "metadata": {},
   "outputs": [],
   "source": [
    "from scipy.spatial import distance\n",
    "\n",
    "class cosKNN(KNN):\n",
    "    \n",
    "    @staticmethod\n",
    "    def _dist(a,b):\n",
    "        \"\"\"\n",
    "        Через косинусную меру\n",
    "\n",
    "        возвращаетs: число с плавающей точкой\n",
    "        \"\"\"\n",
    "        return distance.cosine(a,b)"
   ]
  },
  {
   "cell_type": "markdown",
   "metadata": {},
   "source": [
    "**Задание 18 - 0.5 балла**\n",
    "\n",
    "Сравните качество новой модели с косинусным расстоянием при разных параметрах `k` в интервале от 1 до 15. Какая модель для этой задачи подходит лучше?"
   ]
  },
  {
   "cell_type": "code",
   "execution_count": 529,
   "metadata": {},
   "outputs": [],
   "source": [
    "#Обычная модель"
   ]
  },
  {
   "cell_type": "code",
   "execution_count": 532,
   "metadata": {},
   "outputs": [],
   "source": [
    "k_list = []\n",
    "score_KNN = []\n",
    "score_cosKNN = []\n",
    "\n",
    "for k in range(1,16):\n",
    "    k_list.append(k)\n",
    "    \n",
    "    KNN_model = KNN(k)\n",
    "    KNN_model.fit(X_train, y_train)\n",
    "    KNN_model.predict(X_test)\n",
    "    score_KNN.append(KNN_model.score(y_test, KNN_model.predictions))\n",
    "    \n",
    "    cosKNN_model = cosKNN(k)\n",
    "    cosKNN_model.fit(X_train, y_train)\n",
    "    cosKNN_model.predict(X_test)\n",
    "    score_cosKNN.append(cosKNN_model.score(y_test, cosKNN_model.predictions))"
   ]
  },
  {
   "cell_type": "code",
   "execution_count": 540,
   "metadata": {},
   "outputs": [
    {
     "data": {
      "text/plain": [
       "<matplotlib.legend.Legend at 0x1a22b63910>"
      ]
     },
     "execution_count": 540,
     "metadata": {},
     "output_type": "execute_result"
    },
    {
     "data": {
      "image/png": "[encoded data removed]",
      "text/plain": [
       "<Figure size 720x432 with 1 Axes>"
      ]
     },
     "metadata": {
      "needs_background": "light"
     },
     "output_type": "display_data"
    }
   ],
   "source": [
    "fig, ax = plt.subplots(1, 1, figsize=(10,6))\n",
    "\n",
    "ax.spines['right'].set_visible(False)\n",
    "ax.spines['top'].set_visible(False)\n",
    "ax.plot(k_list, score_KNN, label = 'KNN', color='red')\n",
    "ax.plot(k_list, score_cosKNN, label = 'cosKNN', color='blue')\n",
    "ax.set_title('Сравнение двух моделей', fontsize = 14)\n",
    "ax.set_xlabel('k', fontsize = 11)\n",
    "ax.set_ylabel('Score', fontsize = 11)   \n",
    "ax.legend(loc=4, fontsize=12, frameon=False)"
   ]
  },
  {
   "cell_type": "markdown",
   "metadata": {},
   "source": [
    "**Вывод:** Обычный алгоритм превосходит cosKNN в данной задаче, что связано с её относительной простотой. При этом лучше всего KNN работает при числе соседей k=4 и k=6, однако для cosKNN значение k=4 показывает наихудшую точность. Это связано с тем, что значения лепестков не могут принимать отрицательные значения, поэтому возможность учитывать направление вектора совсем не помогат улучшить точность предсказания. При этом CosKNN очень полезен в задачах векторного представления слов и используется в NLP, потому что позволяет лучше отражать взаимосвязь между словами со схожими смыслами, такие как \"король-королева\" и \"мужчина-женщина\". "
   ]
  },
  {
   "cell_type": "markdown",
   "metadata": {},
   "source": [
    "**Задание 19 - 0.5 балла**\n",
    "\n",
    "Если вы дошли до этого места - наверное вы очень устали. Или нет, все может быть. В любом случае: вы - герой. Напишите здесь что вам понравилось/не понравилось в данной домашке, что еще вы бы хотели увидеть"
   ]
  },
  {
   "cell_type": "markdown",
   "metadata": {},
   "source": [
    "*Мне все очень и очень понравилось, особенно блокнот про классы. До этого я не встречала настолько подробного и качественного объяснения этой темы. Также спасибо за маленькие штуки для самопроверки, хотелось бы, чтобы их было больше. Единственная проблема - не всегда понятно задание, например, 17-е: какой именно график лучше подойдет в данной ситуации? Очень помог бы не указанный тип, а более подробное описание того, что нужно сделать. Но в целом это восторг: в январе я не могла написать на Python даже простой цикл, а сейчас могу построить +- работающий алгоритм KNN. Когда я шла на эту программу, то не ожидала, что здесь учат программировать, причем настолько хорошо. Это был прекрасный предмет и очень хотелось бы, чтобы он шел минимум два модуля.*\n",
    "(( _ _ ))..zzzZZ "
   ]
  },
  {
   "cell_type": "code",
   "execution_count": null,
   "metadata": {},
   "outputs": [],
   "source": []
  }
 ],
 "metadata": {
  "kernelspec": {
   "display_name": "Python 3",
   "language": "python",
   "name": "python3"
  },
  "language_info": {
   "codemirror_mode": {
    "name": "ipython",
    "version": 3
   },
   "file_extension": ".py",
   "mimetype": "text/x-python",
   "name": "python",
   "nbconvert_exporter": "python",
   "pygments_lexer": "ipython3",
   "version": "3.7.6"
  }
 },
 "nbformat": 4,
 "nbformat_minor": 2
}
